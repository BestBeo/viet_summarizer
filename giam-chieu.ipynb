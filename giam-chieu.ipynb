{
 "cells": [
  {
   "cell_type": "code",
   "execution_count": 1,
   "id": "6bdf8acc",
   "metadata": {
    "execution": {
     "iopub.execute_input": "2025-05-25T04:43:16.764665Z",
     "iopub.status.busy": "2025-05-25T04:43:16.764235Z",
     "iopub.status.idle": "2025-05-25T04:46:53.905138Z",
     "shell.execute_reply": "2025-05-25T04:46:53.903477Z"
    },
    "papermill": {
     "duration": 217.149588,
     "end_time": "2025-05-25T04:46:53.910031",
     "exception": false,
     "start_time": "2025-05-25T04:43:16.760443",
     "status": "completed"
    },
    "tags": []
   },
   "outputs": [
    {
     "name": "stdout",
     "output_type": "stream",
     "text": [
      "Kích thước ban đầu: 300\n",
      "Kích thước sau khi giảm: 100\n",
      "Đã lưu vector giảm chiều tại /kaggle/working/cc.vi.100.vec\n"
     ]
    }
   ],
   "source": [
    "import fasttext\n",
    "import fasttext.util\n",
    "\n",
    "# Đường dẫn file .bin trên Kaggle\n",
    "bin_path = '/kaggle/input/fasttext-vietnamese-word-vectors-full/cc.vi.300.bin'\n",
    "\n",
    "# Load model\n",
    "model = fasttext.load_model(bin_path)\n",
    "print(\"Kích thước ban đầu:\", model.get_dimension())  # 300\n",
    "\n",
    "# Giảm chiều xuống 100\n",
    "fasttext.util.reduce_model(model, 100)\n",
    "print(\"Kích thước sau khi giảm:\", model.get_dimension())  # 100\n",
    "\n",
    "# Lưu ra file .vec trong thư mục working để dễ tải về\n",
    "output_vec_file = '/kaggle/working/cc.vi.100.vec'\n",
    "\n",
    "def save_model_to_vec(model, output_path):\n",
    "    words = model.get_words()\n",
    "    dim = model.get_dimension()\n",
    "    with open(output_path, 'w', encoding='utf-8') as f:\n",
    "        f.write(f\"{len(words)} {dim}\\n\")  # header\n",
    "        for w in words:\n",
    "            vec = model.get_word_vector(w)\n",
    "            vec_str = ' '.join(map(str, vec))\n",
    "            f.write(f\"{w} {vec_str}\\n\")\n",
    "\n",
    "save_model_to_vec(model, output_vec_file)\n",
    "\n",
    "print(f\"Đã lưu vector giảm chiều tại {output_vec_file}\")\n"
   ]
  },
  {
   "cell_type": "code",
   "execution_count": 2,
   "id": "80da7d3a",
   "metadata": {
    "execution": {
     "iopub.execute_input": "2025-05-25T04:46:53.917606Z",
     "iopub.status.busy": "2025-05-25T04:46:53.917247Z",
     "iopub.status.idle": "2025-05-25T04:47:08.703845Z",
     "shell.execute_reply": "2025-05-25T04:47:08.702571Z"
    },
    "papermill": {
     "duration": 14.792419,
     "end_time": "2025-05-25T04:47:08.705708",
     "exception": false,
     "start_time": "2025-05-25T04:46:53.913289",
     "status": "completed"
    },
    "tags": []
   },
   "outputs": [
    {
     "name": "stdout",
     "output_type": "stream",
     "text": [
      "Tổng số từ: 2000000, kích thước vector gốc: 300\n",
      "Đã load 50000 vectors.\n",
      "Bắt đầu PCA giảm chiều...\n",
      "Vector sau khi giảm chiều: (50000, 100)\n",
      "File vector đã được lưu tại: /kaggle/working/cc.vi.100.vec\n"
     ]
    }
   ],
   "source": [
    "import numpy as np\n",
    "from sklearn.decomposition import PCA\n",
    "import os\n",
    "\n",
    "def reduce_vec_with_pca(input_path, output_path, target_dim=100, max_words=None):\n",
    "    # Đọc file vector gốc\n",
    "    with open(input_path, 'r', encoding='utf-8') as f_in:\n",
    "        header = f_in.readline()\n",
    "        total_words, dim = map(int, header.strip().split())\n",
    "        print(f\"Tổng số từ: {total_words}, kích thước vector gốc: {dim}\")\n",
    "\n",
    "        if target_dim > dim:\n",
    "            raise ValueError(f\"target_dim ({target_dim}) phải <= dim gốc ({dim})\")\n",
    "\n",
    "        # Giới hạn số từ nếu máy yếu\n",
    "        if max_words is not None:\n",
    "            total_words = min(total_words, max_words)\n",
    "\n",
    "        words = []\n",
    "        vectors = []\n",
    "\n",
    "        for i, line in enumerate(f_in):\n",
    "            if i >= total_words:\n",
    "                break\n",
    "            parts = line.rstrip().split(' ')\n",
    "            words.append(parts[0])\n",
    "            vec = np.array(parts[1:], dtype=float)\n",
    "            vectors.append(vec)\n",
    "\n",
    "        vectors = np.vstack(vectors)\n",
    "        print(f\"Đã load {vectors.shape[0]} vectors.\")\n",
    "\n",
    "    # PCA giảm chiều\n",
    "    print(\"Bắt đầu PCA giảm chiều...\")\n",
    "    pca = PCA(n_components=target_dim)\n",
    "    reduced_vecs = pca.fit_transform(vectors)\n",
    "    print(f\"Vector sau khi giảm chiều: {reduced_vecs.shape}\")\n",
    "\n",
    "    # Lưu file vector mới\n",
    "    with open(output_path, 'w', encoding='utf-8') as f_out:\n",
    "        f_out.write(f\"{len(words)} {target_dim}\\n\")\n",
    "        for w, vec in zip(words, reduced_vecs):\n",
    "            vec_str = ' '.join(map(str, vec))\n",
    "            f_out.write(f\"{w} {vec_str}\\n\")\n",
    "\n",
    "    print(f\"File vector đã được lưu tại: {output_path}\")\n",
    "\n",
    "# Cấu hình\n",
    "input_file = '/kaggle/input/fasttext-vietnamese-word-vectors-full/cc.vi.300.vec'  # Đường dẫn file vector trên Kaggle dataset\n",
    "output_file = '/kaggle/working/cc.vi.100.vec'           # Nơi lưu file kết quả\n",
    "\n",
    "reduce_vec_with_pca(input_file, output_file, target_dim=100, max_words=50000)\n"
   ]
  }
 ],
 "metadata": {
  "kaggle": {
   "accelerator": "none",
   "dataSources": [
    {
     "datasetId": 798371,
     "sourceId": 1373314,
     "sourceType": "datasetVersion"
    }
   ],
   "dockerImageVersionId": 31040,
   "isGpuEnabled": false,
   "isInternetEnabled": true,
   "language": "python",
   "sourceType": "notebook"
  },
  "kernelspec": {
   "display_name": "Python 3",
   "language": "python",
   "name": "python3"
  },
  "language_info": {
   "codemirror_mode": {
    "name": "ipython",
    "version": 3
   },
   "file_extension": ".py",
   "mimetype": "text/x-python",
   "name": "python",
   "nbconvert_exporter": "python",
   "pygments_lexer": "ipython3",
   "version": "3.11.11"
  },
  "papermill": {
   "default_parameters": {},
   "duration": 238.438968,
   "end_time": "2025-05-25T04:47:10.035165",
   "environment_variables": {},
   "exception": null,
   "input_path": "__notebook__.ipynb",
   "output_path": "__notebook__.ipynb",
   "parameters": {},
   "start_time": "2025-05-25T04:43:11.596197",
   "version": "2.6.0"
  }
 },
 "nbformat": 4,
 "nbformat_minor": 5
}
